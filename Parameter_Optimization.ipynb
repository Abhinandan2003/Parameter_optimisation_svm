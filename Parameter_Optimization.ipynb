{
 "cells": [
  {
   "cell_type": "markdown",
   "metadata": {
    "id": "mcxikyd4gXBn"
   },
   "source": [
    "# **Parameter Optimization for Multiclass Dataset**\n",
    "### Suubmitted  By Abhinandan Sharma\n",
    "### Roll No. 102103110\n",
    "### Group 3CO4"
   ]
  },
  {
   "cell_type": "code",
   "execution_count": 1,
   "metadata": {
    "colab": {
     "base_uri": "https://localhost:8080/"
    },
    "id": "6SuMs-0-gL6n",
    "outputId": "4b753d1d-3223-48f2-bd69-bfec2e608358"
   },
   "outputs": [
    {
     "name": "stdout",
     "output_type": "stream",
     "text": [
      "Collecting ucimlrepo\n",
      "  Obtaining dependency information for ucimlrepo from https://files.pythonhosted.org/packages/22/47/9350b2eeeaef8c0fd3ec3505c8a0481b576845b3df0d71c76f989c23d3c6/ucimlrepo-0.0.6-py3-none-any.whl.metadata\n",
      "  Downloading ucimlrepo-0.0.6-py3-none-any.whl.metadata (5.3 kB)\n",
      "Downloading ucimlrepo-0.0.6-py3-none-any.whl (8.0 kB)\n",
      "Installing collected packages: ucimlrepo\n",
      "Successfully installed ucimlrepo-0.0.6\n",
      "Collecting bayesian-optimization\n",
      "  Obtaining dependency information for bayesian-optimization from https://files.pythonhosted.org/packages/45/cf/3016b660afca02c6ecca3c1cc6d8df3b8f1a6ff4878103204d0aa6b4c769/bayesian_optimization-1.4.3-py3-none-any.whl.metadata\n",
      "  Downloading bayesian_optimization-1.4.3-py3-none-any.whl.metadata (543 bytes)\n",
      "Requirement already satisfied: numpy>=1.9.0 in e:\\anaconda\\lib\\site-packages (from bayesian-optimization) (1.24.3)\n",
      "Requirement already satisfied: scipy>=1.0.0 in e:\\anaconda\\lib\\site-packages (from bayesian-optimization) (1.10.1)\n",
      "Requirement already satisfied: scikit-learn>=0.18.0 in e:\\anaconda\\lib\\site-packages (from bayesian-optimization) (1.2.2)\n",
      "Requirement already satisfied: colorama>=0.4.6 in c:\\users\\abhinandan sharma\\appdata\\roaming\\python\\python311\\site-packages (from bayesian-optimization) (0.4.6)\n",
      "Requirement already satisfied: joblib>=1.1.1 in e:\\anaconda\\lib\\site-packages (from scikit-learn>=0.18.0->bayesian-optimization) (1.2.0)\n",
      "Requirement already satisfied: threadpoolctl>=2.0.0 in e:\\anaconda\\lib\\site-packages (from scikit-learn>=0.18.0->bayesian-optimization) (2.2.0)\n",
      "Downloading bayesian_optimization-1.4.3-py3-none-any.whl (18 kB)\n",
      "Installing collected packages: bayesian-optimization\n",
      "Successfully installed bayesian-optimization-1.4.3\n"
     ]
    }
   ],
   "source": [
    "!pip install ucimlrepo\n",
    "!pip install bayesian-optimization"
   ]
  },
  {
   "cell_type": "code",
   "execution_count": 2,
   "metadata": {
    "id": "EcVJ8KEmrTkT"
   },
   "outputs": [],
   "source": [
    "import numpy as np\n",
    "import pandas as pd\n",
    "import matplotlib.pyplot as plt\n",
    "from sklearn.model_selection import train_test_split\n",
    "from sklearn.svm import NuSVC\n",
    "from sklearn.metrics import accuracy_score\n",
    "from bayes_opt import BayesianOptimization"
   ]
  },
  {
   "cell_type": "code",
   "execution_count": 3,
   "metadata": {
    "colab": {
     "base_uri": "https://localhost:8080/"
    },
    "id": "3Vwp5xvRghjw",
    "outputId": "e2f65347-75e2-4d4c-8173-1d751f5e37bc"
   },
   "outputs": [
    {
     "name": "stdout",
     "output_type": "stream",
     "text": [
      "{'uci_id': 602, 'name': 'Dry Bean', 'repository_url': 'https://archive.ics.uci.edu/dataset/602/dry+bean+dataset', 'data_url': 'https://archive.ics.uci.edu/static/public/602/data.csv', 'abstract': 'Images of 13,611 grains of 7 different registered dry beans were taken with a high-resolution camera. A total of 16 features; 12 dimensions and 4 shape forms, were obtained from the grains.', 'area': 'Biology', 'tasks': ['Classification'], 'characteristics': ['Multivariate'], 'num_instances': 13611, 'num_features': 16, 'feature_types': ['Integer', 'Real'], 'demographics': [], 'target_col': ['Class'], 'index_col': None, 'has_missing_values': 'no', 'missing_values_symbol': None, 'year_of_dataset_creation': 2020, 'last_updated': 'Thu Mar 28 2024', 'dataset_doi': '10.24432/C50S4B', 'creators': [], 'intro_paper': {'title': 'Multiclass classification of dry beans using computer vision and machine learning techniques', 'authors': 'M. Koklu, Ilker Ali Özkan', 'published_in': 'Computers and Electronics in Agriculture', 'year': 2020, 'url': 'https://www.semanticscholar.org/paper/e84c31138f2f261d15517d6b6bb8922c3fe597a1', 'doi': '10.1016/j.compag.2020.105507'}, 'additional_info': {'summary': 'Seven different types of dry beans were used in this research, taking into account the features such as form, shape, type, and structure by the market situation. A computer vision system was developed to distinguish seven different registered varieties of dry beans with similar features in order to obtain uniform seed classification. For the classification model, images of 13,611 grains of 7 different registered dry beans were taken with a high-resolution camera. Bean images obtained by computer vision system were subjected to segmentation and feature extraction stages, and a total of 16 features; 12 dimensions and 4 shape forms, were obtained from the grains.', 'purpose': None, 'funded_by': None, 'instances_represent': None, 'recommended_data_splits': None, 'sensitive_data': None, 'preprocessing_description': None, 'variable_info': '1.) Area (A): The area of a bean zone and the number of pixels within its boundaries.\\r\\n2.) Perimeter (P): Bean circumference is defined as the length of its border.\\r\\n3.) Major axis length (L): The distance between the ends of the longest line that can be drawn from a bean.\\r\\n4.) Minor axis length (l): The longest line that can be drawn from the bean while standing perpendicular to the main axis.\\r\\n5.) Aspect ratio (K): Defines the relationship between L and l.\\r\\n6.) Eccentricity (Ec): Eccentricity of the ellipse having the same moments as the region.\\r\\n7.) Convex area (C): Number of pixels in the smallest convex polygon that can contain the area of a bean seed.\\r\\n8.) Equivalent diameter (Ed): The diameter of a circle having the same area as a bean seed area.\\r\\n9.) Extent (Ex): The ratio of the pixels in the bounding box to the bean area.\\r\\n10.)Solidity (S): Also known as convexity. The ratio of the pixels in the convex shell to those found in beans.\\r\\n11.)Roundness (R): Calculated with the following formula: (4piA)/(P^2)\\r\\n12.)Compactness (CO): Measures the roundness of an object: Ed/L\\r\\n13.)ShapeFactor1 (SF1)\\r\\n14.)ShapeFactor2 (SF2)\\r\\n15.)ShapeFactor3 (SF3)\\r\\n16.)ShapeFactor4 (SF4)\\r\\n17.)Class (Seker, Barbunya, Bombay, Cali, Dermosan, Horoz and Sira)\\r\\n', 'citation': None}}\n",
      "               name     role         type demographic  \\\n",
      "0              Area  Feature      Integer        None   \n",
      "1         Perimeter  Feature   Continuous        None   \n",
      "2   MajorAxisLength  Feature   Continuous        None   \n",
      "3   MinorAxisLength  Feature   Continuous        None   \n",
      "4       AspectRatio  Feature   Continuous        None   \n",
      "5      Eccentricity  Feature   Continuous        None   \n",
      "6        ConvexArea  Feature      Integer        None   \n",
      "7     EquivDiameter  Feature   Continuous        None   \n",
      "8            Extent  Feature   Continuous        None   \n",
      "9          Solidity  Feature   Continuous        None   \n",
      "10        Roundness  Feature   Continuous        None   \n",
      "11      Compactness  Feature   Continuous        None   \n",
      "12     ShapeFactor1  Feature   Continuous        None   \n",
      "13     ShapeFactor2  Feature   Continuous        None   \n",
      "14     ShapeFactor3  Feature   Continuous        None   \n",
      "15     ShapeFactor4  Feature   Continuous        None   \n",
      "16            Class   Target  Categorical        None   \n",
      "\n",
      "                                          description   units missing_values  \n",
      "0   The area of a bean zone and the number of pixe...  pixels             no  \n",
      "1   Bean circumference is defined as the length of...    None             no  \n",
      "2   The distance between the ends of the longest l...    None             no  \n",
      "3   The longest line that can be drawn from the be...    None             no  \n",
      "4   Defines the relationship between MajorAxisLeng...    None             no  \n",
      "5   Eccentricity of the ellipse having the same mo...    None             no  \n",
      "6   Number of pixels in the smallest convex polygo...    None             no  \n",
      "7   Equivalent diameter: The diameter of a circle ...    None             no  \n",
      "8   The ratio of the pixels in the bounding box to...    None             no  \n",
      "9   Also known as convexity. The ratio of the pixe...    None             no  \n",
      "10  Calculated with the following formula: (4piA)/...    None             no  \n",
      "11                Measures the roundness of an object    Ed/L             no  \n",
      "12                                               None    None             no  \n",
      "13                                               None    None             no  \n",
      "14                                               None    None             no  \n",
      "15                                               None    None             no  \n",
      "16  (Seker, Barbunya, Bombay, Cali, Dermosan, Horo...    None             no  \n"
     ]
    }
   ],
   "source": [
    "from ucimlrepo import fetch_ucirepo\n",
    "\n",
    "# fetch dataset\n",
    "dry_bean = fetch_ucirepo(id=602)\n",
    "\n",
    "# data (as pandas dataframes)\n",
    "X = dry_bean.data.features\n",
    "y = dry_bean.data.targets\n",
    "\n",
    "# metadata\n",
    "print(dry_bean.metadata)\n",
    "\n",
    "# variable information\n",
    "print(dry_bean.variables)\n"
   ]
  },
  {
   "cell_type": "code",
   "execution_count": 4,
   "metadata": {
    "colab": {
     "base_uri": "https://localhost:8080/"
    },
    "id": "WhjsBJsagoSb",
    "outputId": "d18f6cbf-69d3-4ac3-c1cb-27608c92c64e"
   },
   "outputs": [
    {
     "name": "stdout",
     "output_type": "stream",
     "text": [
      "First few rows of features (X):\n",
      "    Area  Perimeter  MajorAxisLength  MinorAxisLength  AspectRatio  \\\n",
      "0  28395    610.291       208.178117       173.888747     1.197191   \n",
      "1  28734    638.018       200.524796       182.734419     1.097356   \n",
      "2  29380    624.110       212.826130       175.931143     1.209713   \n",
      "3  30008    645.884       210.557999       182.516516     1.153638   \n",
      "4  30140    620.134       201.847882       190.279279     1.060798   \n",
      "\n",
      "   Eccentricity  ConvexArea  EquivDiameter    Extent  Solidity  Roundness  \\\n",
      "0      0.549812       28715     190.141097  0.763923  0.988856   0.958027   \n",
      "1      0.411785       29172     191.272751  0.783968  0.984986   0.887034   \n",
      "2      0.562727       29690     193.410904  0.778113  0.989559   0.947849   \n",
      "3      0.498616       30724     195.467062  0.782681  0.976696   0.903936   \n",
      "4      0.333680       30417     195.896503  0.773098  0.990893   0.984877   \n",
      "\n",
      "   Compactness  ShapeFactor1  ShapeFactor2  ShapeFactor3  ShapeFactor4  \n",
      "0     0.913358      0.007332      0.003147      0.834222      0.998724  \n",
      "1     0.953861      0.006979      0.003564      0.909851      0.998430  \n",
      "2     0.908774      0.007244      0.003048      0.825871      0.999066  \n",
      "3     0.928329      0.007017      0.003215      0.861794      0.994199  \n",
      "4     0.970516      0.006697      0.003665      0.941900      0.999166  \n"
     ]
    }
   ],
   "source": [
    "print(\"First few rows of features (X):\")\n",
    "print(X.head())"
   ]
  },
  {
   "cell_type": "code",
   "execution_count": 5,
   "metadata": {
    "colab": {
     "base_uri": "https://localhost:8080/"
    },
    "id": "TrUMs7E0gwP8",
    "outputId": "27299b37-f8c8-4d15-f2d8-8e293dd77328"
   },
   "outputs": [
    {
     "name": "stdout",
     "output_type": "stream",
     "text": [
      "\n",
      "First few rows of targets (y):\n",
      "   Class\n",
      "0  SEKER\n",
      "1  SEKER\n",
      "2  SEKER\n",
      "3  SEKER\n",
      "4  SEKER\n"
     ]
    }
   ],
   "source": [
    "print(\"\\nFirst few rows of targets (y):\")\n",
    "print(y.head())"
   ]
  },
  {
   "cell_type": "code",
   "execution_count": 6,
   "metadata": {
    "colab": {
     "base_uri": "https://localhost:8080/"
    },
    "id": "W3bO2xD8jTPA",
    "outputId": "dd176365-ad16-4efd-88ae-b6595079ad96"
   },
   "outputs": [
    {
     "name": "stdout",
     "output_type": "stream",
     "text": [
      "          Class\n",
      "0         SEKER\n",
      "1         SEKER\n",
      "2         SEKER\n",
      "3         SEKER\n",
      "4         SEKER\n",
      "...         ...\n",
      "13606  DERMASON\n",
      "13607  DERMASON\n",
      "13608  DERMASON\n",
      "13609  DERMASON\n",
      "13610  DERMASON\n",
      "\n",
      "[13611 rows x 1 columns]\n"
     ]
    }
   ],
   "source": [
    "print(y)"
   ]
  },
  {
   "cell_type": "code",
   "execution_count": 7,
   "metadata": {
    "id": "-UxmrDoFjXqV"
   },
   "outputs": [],
   "source": [
    "X_train, X_test, y_train, y_test = train_test_split(X, y.to_numpy().ravel(), test_size=0.3, random_state=42)"
   ]
  },
  {
   "cell_type": "code",
   "execution_count": 8,
   "metadata": {
    "id": "seVxgdGxlaZh"
   },
   "outputs": [],
   "source": [
    "# kernels = ['linear', 'poly', 'sigmoid', 'rbf', 'anovadot']\n",
    "kernels=['rbf', 'poly', 'linear']\n",
    "pbounds = {'kernel': (0, len(kernels)-1),\n",
    "           'nu': (0.01, 0.1),\n",
    "           'tol': (1e-6, 1.0)}"
   ]
  },
  {
   "cell_type": "code",
   "execution_count": 9,
   "metadata": {
    "id": "o0_AfCP1Cg1X"
   },
   "outputs": [],
   "source": [
    "def evaluate_svm(kernel, nu, tol):\n",
    "  kernel_name = kernels[int(kernel)]\n",
    "  model = NuSVC(kernel=kernel_name, nu=nu, tol=tol)\n",
    "  model.fit(X_train, y_train)\n",
    "  y_pred = model.predict(X_test)\n",
    "  accuracy = accuracy_score(y_test, y_pred)\n",
    "  return accuracy"
   ]
  },
  {
   "cell_type": "code",
   "execution_count": null,
   "metadata": {
    "colab": {
     "base_uri": "https://localhost:8080/"
    },
    "id": "xarcIJeORT-7",
    "outputId": "d89f3ca6-ae34-4d2e-bbe5-11f3b7c6750b"
   },
   "outputs": [
    {
     "name": "stdout",
     "output_type": "stream",
     "text": [
      "|   iter    |  target   |  kernel   |    nu     |    tol    |\n",
      "-------------------------------------------------------------\n",
      "| \u001b[0m1        \u001b[0m | \u001b[0m0.5558   \u001b[0m | \u001b[0m0.8776   \u001b[0m | \u001b[0m0.09229  \u001b[0m | \u001b[0m0.2761   \u001b[0m |\n",
      "| \u001b[0m2        \u001b[0m | \u001b[0m0.2147   \u001b[0m | \u001b[0m1.524    \u001b[0m | \u001b[0m0.04052  \u001b[0m | \u001b[0m0.8029   \u001b[0m |\n",
      "| \u001b[95m3        \u001b[0m | \u001b[95m0.6812   \u001b[0m | \u001b[95m1.05     \u001b[0m | \u001b[95m0.03077  \u001b[0m | \u001b[95m0.1824   \u001b[0m |\n",
      "| \u001b[0m4        \u001b[0m | \u001b[0m0.6268   \u001b[0m | \u001b[0m1.371    \u001b[0m | \u001b[0m0.08875  \u001b[0m | \u001b[0m0.397    \u001b[0m |\n",
      "| \u001b[0m5        \u001b[0m | \u001b[0m0.6026   \u001b[0m | \u001b[0m1.399    \u001b[0m | \u001b[0m0.05932  \u001b[0m | \u001b[0m0.4439   \u001b[0m |\n"
     ]
    }
   ],
   "source": [
    "# results = []\n",
    "# optimizers = []\n",
    "# for sample in range(1):\n",
    "#   optimizer = BayesianOptimization(evaluate_svm, pbounds)\n",
    "#   optimizer.maximize(init_points=5, n_iter=20)\n",
    "#   best_params = optimizer.max['params']\n",
    "#   best_accuracy = optimizer.max['target']\n",
    "#   results.append((sample, best_accuracy, best_params))\n",
    "#   optimizers.append(optimizer)\n",
    "\n",
    "results = []\n",
    "optimizers = []\n",
    "targets = []  # Store target values (accuracy scores)\n",
    "iteration_counts = []  # Store iteration counts\n",
    "\n",
    "for sample in range(10):\n",
    "    optimizer = BayesianOptimization(evaluate_svm, pbounds)\n",
    "    optimizer.maximize(init_points=5, n_iter=100)\n",
    "    best_params = optimizer.max['params']\n",
    "    best_accuracy = optimizer.max['target']\n",
    "    results.append((sample, best_accuracy, best_params))\n",
    "    optimizers.append(optimizer)\n",
    "\n",
    "    # Store target values and iteration counts\n",
    "    targets.append(optimizer._space.target)\n",
    "    iteration_counts.append(optimizer._space.params.shape[0])"
   ]
  },
  {
   "cell_type": "code",
   "execution_count": null,
   "metadata": {
    "colab": {
     "base_uri": "https://localhost:8080/"
    },
    "id": "9zY5YFZ3sL-b",
    "outputId": "03041702-967c-442b-c66f-5b07106fea82"
   },
   "outputs": [],
   "source": [
    "table = pd.DataFrame(results, columns=['Sample', 'Best Accuracy', 'Best SVM Parameter'])\n",
    "print(table)"
   ]
  },
  {
   "cell_type": "code",
   "execution_count": null,
   "metadata": {
    "colab": {
     "base_uri": "https://localhost:8080/"
    },
    "id": "NiTGrC4t68Us",
    "outputId": "452748bb-a387-4b00-c2d7-fa400e0d677d"
   },
   "outputs": [],
   "source": [
    "max_accuracy_sample = table.loc[table['Best Accuracy'].idxmax()]\n",
    "print(f\"Sample with maximum accuracy: {max_accuracy_sample['Sample']}\")"
   ]
  },
  {
   "cell_type": "code",
   "execution_count": null,
   "metadata": {
    "colab": {
     "base_uri": "https://localhost:8080/",
     "height": 472
    },
    "id": "o3jFzR0FH4kF",
    "outputId": "6a6daa4f-d29c-4531-8531-c2091b66e150"
   },
   "outputs": [],
   "source": [
    "max_accuracy_optimizer_idx = max_accuracy_sample['Sample']\n",
    "iterations = range(iteration_counts[max_accuracy_optimizer_idx])\n",
    "plt.plot(iterations, targets[max_accuracy_optimizer_idx][:iteration_counts[max_accuracy_optimizer_idx]])\n",
    "plt.xlabel('Iterations')\n",
    "plt.ylabel('Accuracy')\n",
    "plt.title('Convergence Plot')\n",
    "plt.show()"
   ]
  },
  {
   "cell_type": "code",
   "execution_count": null,
   "metadata": {
    "id": "RgAsTo4MI9_F"
   },
   "outputs": [],
   "source": []
  },
  {
   "cell_type": "code",
   "execution_count": null,
   "metadata": {},
   "outputs": [],
   "source": []
  },
  {
   "cell_type": "code",
   "execution_count": null,
   "metadata": {},
   "outputs": [],
   "source": []
  },
  {
   "cell_type": "code",
   "execution_count": null,
   "metadata": {},
   "outputs": [],
   "source": []
  },
  {
   "cell_type": "code",
   "execution_count": null,
   "metadata": {},
   "outputs": [],
   "source": []
  }
 ],
 "metadata": {
  "colab": {
   "authorship_tag": "ABX9TyPf2QS4tSYYReubSXyLvEed",
   "include_colab_link": true,
   "provenance": []
  },
  "kernelspec": {
   "display_name": "Python 3 (ipykernel)",
   "language": "python",
   "name": "python3"
  },
  "language_info": {
   "codemirror_mode": {
    "name": "ipython",
    "version": 3
   },
   "file_extension": ".py",
   "mimetype": "text/x-python",
   "name": "python",
   "nbconvert_exporter": "python",
   "pygments_lexer": "ipython3",
   "version": "3.11.5"
  }
 },
 "nbformat": 4,
 "nbformat_minor": 1
}
